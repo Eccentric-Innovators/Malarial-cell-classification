{
 "cells": [
  {
   "cell_type": "code",
   "execution_count": 1,
   "metadata": {},
   "outputs": [],
   "source": [
    "import cv2\n",
    "import numpy as np \n",
    "import os\n",
    "import matplotlib.pyplot as plt \n",
    "import pandas as pd \n",
    "import tensorflow as tf\n",
    "import tensorflow.keras as keras \n",
    "from tensorflow.keras.preprocessing.image import ImageDataGenerator\n",
    "from sklearn.model_selection import train_test_split\n",
    "from tensorflow.keras.layers import Conv2D, Dropout, Dense, MaxPool2D, Flatten, BatchNormalization\n",
    "from tensorflow.keras import callbacks"
   ]
  },
  {
   "cell_type": "code",
   "execution_count": 2,
   "metadata": {},
   "outputs": [],
   "source": [
    "unhealthy = ['Data/Parasitized/' + i for i in os.listdir('Data/Parasitized/')]\n",
    "healthy = ['Data/Uninfected/' + i for i in os.listdir('Data/Uninfected/')]"
   ]
  },
  {
   "cell_type": "code",
   "execution_count": 3,
   "metadata": {},
   "outputs": [],
   "source": [
    "train_features = unhealthy[:12402]\n",
    "train_features.extend(healthy[:12402])\n",
    "train_labels = ['unhealthy']*12402\n",
    "train_labels.extend(['healthy']*12402)\n",
    "\n",
    "valid_features = unhealthy[12402:13091]\n",
    "valid_features.extend(healthy[12402:13091])\n",
    "valid_labels = ['unhealthy']*689\n",
    "valid_labels.extend(['healthy']*689)\n",
    "\n",
    "test_features = unhealthy[13091:]\n",
    "test_features.extend(healthy[13091:])\n",
    "test_labels = ['unhealthy']*689\n",
    "test_labels.extend(['healthy']*689)"
   ]
  },
  {
   "cell_type": "code",
   "execution_count": 4,
   "metadata": {},
   "outputs": [],
   "source": [
    "train_df = pd.DataFrame({'path':train_features, 'label':train_labels})\n",
    "valid_df = pd.DataFrame({'path':valid_features, 'label':test_labels})\n",
    "test_df = pd.DataFrame({'path':test_features, 'label':valid_labels})"
   ]
  },
  {
   "cell_type": "code",
   "execution_count": 5,
   "metadata": {},
   "outputs": [
    {
     "name": "stdout",
     "output_type": "stream",
     "text": [
      "Found 24804 validated image filenames belonging to 2 classes.\n",
      "Found 1378 validated image filenames belonging to 2 classes.\n",
      "Found 1376 validated image filenames belonging to 2 classes.\n"
     ]
    },
    {
     "name": "stderr",
     "output_type": "stream",
     "text": [
      "D:\\Anaconda\\envs\\tf2\\lib\\site-packages\\keras_preprocessing\\image\\dataframe_iterator.py:273: UserWarning: Found 2 invalid image filename(s) in x_col=\"path\". These filename(s) will be ignored.\n",
      "  .format(n_invalid, x_col)\n"
     ]
    }
   ],
   "source": [
    "datagen = ImageDataGenerator(rescale=1./255)\n",
    "\n",
    "train_gen = datagen.flow_from_dataframe(train_df,\n",
    "                                       x_col='path',\n",
    "                                       y_col='label',\n",
    "                                       batch_size=32,\n",
    "                                       shuffle=True,\n",
    "                                       seed=1,\n",
    "                                       class_mode='categorical',\n",
    "                                       target_size=(128,128))\n",
    "\n",
    "valid_gen = datagen.flow_from_dataframe(valid_df,\n",
    "                                       x_col='path',\n",
    "                                       y_col='label',\n",
    "                                       batch_size=32,\n",
    "                                       shuffle=True,\n",
    "                                       seed=2,\n",
    "                                       class_mode='categorical',\n",
    "                                       target_size=(128,128))\n",
    "\n",
    "test_gen = datagen.flow_from_dataframe(test_df,\n",
    "                                       x_col='path',\n",
    "                                       y_col='label',\n",
    "                                       batch_size=32,\n",
    "                                       shuffle=True,\n",
    "                                       seed=3,\n",
    "                                       class_mode='categorical',\n",
    "                                       target_size=(128,128))"
   ]
  },
  {
   "cell_type": "code",
   "execution_count": 24,
   "metadata": {},
   "outputs": [],
   "source": [
    "chkpnt = callbacks.ModelCheckpoint('checkpoint', save_weights_only=False, save_best_only=True, verbose=1)\n",
    "reduce_lr = callbacks.ReduceLROnPlateau(monitor='val_accuracy', factor=0.1, patience=4)"
   ]
  },
  {
   "cell_type": "code",
   "execution_count": 20,
   "metadata": {},
   "outputs": [],
   "source": [
    "model = keras.Sequential()\n",
    "model.add(Conv2D(64, (3,3), activation='relu', input_shape=(128,128,3)))\n",
    "model.add(Conv2D(32, (3,3), activation='relu'))\n",
    "model.add(Conv2D(32, (3,3), activation='relu'))\n",
    "model.add(MaxPool2D((2,2)))\n",
    "\n",
    "model.add(Conv2D(64, (3,3), activation='relu'))\n",
    "model.add(Conv2D(32, (3,3), activation='relu'))\n",
    "model.add(Conv2D(32, (3,3), activation='relu'))\n",
    "model.add(MaxPool2D((2,2)))\n",
    "\n",
    "model.add(Flatten())\n",
    "model.add(Dense(1000, activation='relu'))\n",
    "model.add(Dense(100, activation='relu'))\n",
    "model.add(Dense(2, activation='softmax'))\n",
    "\n",
    "model.compile(loss='categorical_crossentropy', optimizer='adam', metrics=['accuracy'])"
   ]
  },
  {
   "cell_type": "code",
   "execution_count": 21,
   "metadata": {},
   "outputs": [
    {
     "name": "stdout",
     "output_type": "stream",
     "text": [
      "Model: \"sequential_6\"\n",
      "_________________________________________________________________\n",
      "Layer (type)                 Output Shape              Param #   \n",
      "=================================================================\n",
      "conv2d_32 (Conv2D)           (None, 126, 126, 64)      1792      \n",
      "_________________________________________________________________\n",
      "conv2d_33 (Conv2D)           (None, 124, 124, 32)      18464     \n",
      "_________________________________________________________________\n",
      "conv2d_34 (Conv2D)           (None, 122, 122, 32)      9248      \n",
      "_________________________________________________________________\n",
      "max_pooling2d_13 (MaxPooling (None, 61, 61, 32)        0         \n",
      "_________________________________________________________________\n",
      "conv2d_35 (Conv2D)           (None, 59, 59, 64)        18496     \n",
      "_________________________________________________________________\n",
      "conv2d_36 (Conv2D)           (None, 57, 57, 32)        18464     \n",
      "_________________________________________________________________\n",
      "conv2d_37 (Conv2D)           (None, 55, 55, 32)        9248      \n",
      "_________________________________________________________________\n",
      "max_pooling2d_14 (MaxPooling (None, 27, 27, 32)        0         \n",
      "_________________________________________________________________\n",
      "flatten_6 (Flatten)          (None, 23328)             0         \n",
      "_________________________________________________________________\n",
      "dense_18 (Dense)             (None, 1000)              23329000  \n",
      "_________________________________________________________________\n",
      "dense_19 (Dense)             (None, 100)               100100    \n",
      "_________________________________________________________________\n",
      "dense_20 (Dense)             (None, 2)                 202       \n",
      "=================================================================\n",
      "Total params: 23,505,014\n",
      "Trainable params: 23,505,014\n",
      "Non-trainable params: 0\n",
      "_________________________________________________________________\n"
     ]
    }
   ],
   "source": [
    "model.summary()"
   ]
  },
  {
   "cell_type": "code",
   "execution_count": 25,
   "metadata": {},
   "outputs": [
    {
     "name": "stdout",
     "output_type": "stream",
     "text": [
      "WARNING:tensorflow:sample_weight modes were coerced from\n",
      "  ...\n",
      "    to  \n",
      "  ['...']\n",
      "WARNING:tensorflow:sample_weight modes were coerced from\n",
      "  ...\n",
      "    to  \n",
      "  ['...']\n",
      "Train for 776 steps, validate for 44 steps\n",
      "Epoch 1/15\n",
      "775/776 [============================>.] - ETA: 0s - loss: 0.0843 - accuracy: 0.9712\n",
      "Epoch 00001: val_loss improved from inf to 0.14571, saving model to checkpoint\n",
      "INFO:tensorflow:Assets written to: checkpoint\\assets\n",
      "776/776 [==============================] - 213s 274ms/step - loss: 0.0843 - accuracy: 0.9712 - val_loss: 0.1457 - val_accuracy: 0.9470\n",
      "Epoch 2/15\n",
      "775/776 [============================>.] - ETA: 0s - loss: 0.0642 - accuracy: 0.9788\n",
      "Epoch 00002: val_loss did not improve from 0.14571\n",
      "776/776 [==============================] - 235s 302ms/step - loss: 0.0642 - accuracy: 0.9788 - val_loss: 0.2042 - val_accuracy: 0.9434\n",
      "Epoch 3/15\n",
      "775/776 [============================>.] - ETA: 0s - loss: 0.0378 - accuracy: 0.9878\n",
      "Epoch 00003: val_loss did not improve from 0.14571\n",
      "776/776 [==============================] - 222s 286ms/step - loss: 0.0378 - accuracy: 0.9878 - val_loss: 0.2020 - val_accuracy: 0.9514\n",
      "Epoch 4/15\n",
      "775/776 [============================>.] - ETA: 0s - loss: 0.0230 - accuracy: 0.9930\n",
      "Epoch 00004: val_loss did not improve from 0.14571\n",
      "776/776 [==============================] - 210s 270ms/step - loss: 0.0230 - accuracy: 0.9930 - val_loss: 0.2884 - val_accuracy: 0.9456\n",
      "Epoch 5/15\n",
      "775/776 [============================>.] - ETA: 0s - loss: 0.0183 - accuracy: 0.9944\n",
      "Epoch 00005: val_loss did not improve from 0.14571\n",
      "776/776 [==============================] - 249s 321ms/step - loss: 0.0183 - accuracy: 0.9944 - val_loss: 0.3998 - val_accuracy: 0.9427\n",
      "Epoch 6/15\n",
      "775/776 [============================>.] - ETA: 0s - loss: 0.0065 - accuracy: 0.9982\n",
      "Epoch 00006: val_loss did not improve from 0.14571\n",
      "776/776 [==============================] - 612s 789ms/step - loss: 0.0065 - accuracy: 0.9982 - val_loss: 0.4984 - val_accuracy: 0.9521\n",
      "Epoch 7/15\n",
      "775/776 [============================>.] - ETA: 0s - loss: 0.0143 - accuracy: 0.9963\n",
      "Epoch 00007: val_loss did not improve from 0.14571\n",
      "776/776 [==============================] - 302s 389ms/step - loss: 0.0143 - accuracy: 0.9963 - val_loss: 0.3333 - val_accuracy: 0.9427\n",
      "Epoch 8/15\n",
      "775/776 [============================>.] - ETA: 0s - loss: 0.0168 - accuracy: 0.9958\n",
      "Epoch 00008: val_loss did not improve from 0.14571\n",
      "776/776 [==============================] - 163s 210ms/step - loss: 0.0168 - accuracy: 0.9958 - val_loss: 0.4591 - val_accuracy: 0.9441\n",
      "Epoch 9/15\n",
      "775/776 [============================>.] - ETA: 0s - loss: 0.0117 - accuracy: 0.9972\n",
      "Epoch 00009: val_loss did not improve from 0.14571\n",
      "776/776 [==============================] - 185s 238ms/step - loss: 0.0117 - accuracy: 0.9972 - val_loss: 0.3670 - val_accuracy: 0.9499\n",
      "Epoch 10/15\n",
      "775/776 [============================>.] - ETA: 0s - loss: 0.0038 - accuracy: 0.9991\n",
      "Epoch 00010: val_loss did not improve from 0.14571\n",
      "776/776 [==============================] - 189s 244ms/step - loss: 0.0038 - accuracy: 0.9991 - val_loss: 0.5273 - val_accuracy: 0.9557\n",
      "Epoch 11/15\n",
      "775/776 [============================>.] - ETA: 0s - loss: 0.0105 - accuracy: 0.9973\n",
      "Epoch 00011: val_loss did not improve from 0.14571\n",
      "776/776 [==============================] - 189s 243ms/step - loss: 0.0105 - accuracy: 0.9973 - val_loss: 0.4354 - val_accuracy: 0.9485\n",
      "Epoch 12/15\n",
      "775/776 [============================>.] - ETA: 0s - loss: 0.0080 - accuracy: 0.9985\n",
      "Epoch 00012: val_loss did not improve from 0.14571\n",
      "776/776 [==============================] - 187s 241ms/step - loss: 0.0080 - accuracy: 0.9985 - val_loss: 0.3587 - val_accuracy: 0.9470\n",
      "Epoch 13/15\n",
      "775/776 [============================>.] - ETA: 0s - loss: 8.7758e-04 - accuracy: 0.9998\n",
      "Epoch 00013: val_loss did not improve from 0.14571\n",
      "776/776 [==============================] - 188s 243ms/step - loss: 8.7660e-04 - accuracy: 0.9998 - val_loss: 0.4657 - val_accuracy: 0.9528\n",
      "Epoch 14/15\n",
      "775/776 [============================>.] - ETA: 0s - loss: 0.0185 - accuracy: 0.9952\n",
      "Epoch 00014: val_loss did not improve from 0.14571\n",
      "776/776 [==============================] - 201s 259ms/step - loss: 0.0184 - accuracy: 0.9952 - val_loss: 0.3791 - val_accuracy: 0.9521\n",
      "Epoch 15/15\n",
      "775/776 [============================>.] - ETA: 0s - loss: 6.3266e-04 - accuracy: 0.9999\n",
      "Epoch 00015: val_loss did not improve from 0.14571\n",
      "776/776 [==============================] - 233s 300ms/step - loss: 6.3187e-04 - accuracy: 0.9999 - val_loss: 0.4182 - val_accuracy: 0.9507\n"
     ]
    }
   ],
   "source": [
    "h = model.fit(train_gen, epochs=15, verbose=1, callbacks=[chkpnt, reduce_lr], validation_data=valid_gen)"
   ]
  },
  {
   "cell_type": "code",
   "execution_count": 27,
   "metadata": {},
   "outputs": [],
   "source": [
    "model.save('final_model.hdf5')"
   ]
  },
  {
   "cell_type": "code",
   "execution_count": 32,
   "metadata": {},
   "outputs": [
    {
     "data": {
      "text/plain": [
       "[<matplotlib.lines.Line2D at 0x210860e9a20>]"
      ]
     },
     "execution_count": 32,
     "metadata": {},
     "output_type": "execute_result"
    },
    {
     "data": {
      "image/png": "[encoded data removed]",
      "text/plain": [
       "<Figure size 432x288 with 1 Axes>"
      ]
     },
     "metadata": {
      "needs_background": "light"
     },
     "output_type": "display_data"
    }
   ],
   "source": [
    "plt.plot(h.history['val_accuracy'])"
   ]
  },
  {
   "cell_type": "code",
   "execution_count": 38,
   "metadata": {},
   "outputs": [
    {
     "name": "stdout",
     "output_type": "stream",
     "text": [
      "WARNING:tensorflow:sample_weight modes were coerced from\n",
      "  ...\n",
      "    to  \n",
      "  ['...']\n",
      "43/43 [==============================] - 2s 39ms/step - loss: 0.7180 - accuracy: 0.9273\n"
     ]
    },
    {
     "data": {
      "text/plain": [
       "[0.7179992913412249, 0.9273256]"
      ]
     },
     "execution_count": 38,
     "metadata": {},
     "output_type": "execute_result"
    }
   ],
   "source": [
    "model.evaluate(test_gen)"
   ]
  },
  {
   "cell_type": "code",
   "execution_count": 61,
   "metadata": {},
   "outputs": [],
   "source": [
    "from tensorflow.keras.models import load_model\n",
    "m2 = load_model('checkpoint')"
   ]
  },
  {
   "cell_type": "code",
   "execution_count": 65,
   "metadata": {},
   "outputs": [
    {
     "name": "stdout",
     "output_type": "stream",
     "text": [
      "WARNING:tensorflow:sample_weight modes were coerced from\n",
      "  ...\n",
      "    to  \n",
      "  ['...']\n",
      "43/43 [==============================] - 2s 46ms/step - loss: 0.2338 - accuracy: 0.9201\n"
     ]
    },
    {
     "data": {
      "text/plain": [
       "[0.23376682201443716, 0.92005813]"
      ]
     },
     "execution_count": 65,
     "metadata": {},
     "output_type": "execute_result"
    }
   ],
   "source": [
    "m2.evaluate(test_gen)"
   ]
  },
  {
   "cell_type": "code",
   "execution_count": null,
   "metadata": {},
   "outputs": [],
   "source": []
  }
 ],
 "metadata": {
  "kernelspec": {
   "display_name": "Python 3",
   "language": "python",
   "name": "python3"
  }
 },
 "nbformat": 4,
 "nbformat_minor": 4
}
